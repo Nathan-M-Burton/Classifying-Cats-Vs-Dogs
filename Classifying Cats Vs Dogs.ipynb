{
 "cells": [
  {
   "cell_type": "markdown",
   "id": "8ed91c76",
   "metadata": {},
   "source": [
    "# Classifying Cats Vs Dogs With 96% Accuracy "
   ]
  },
  {
   "cell_type": "markdown",
   "id": "8a0dcfcf",
   "metadata": {},
   "source": [
    "### Introduction\n",
    "\n",
    "The classification of cats and dogs has been a long standing deep learning challenge facilitated by Kaggle. This notebook explores the use of Convolutional Neural Networks (CNNs), data augmentation, and other regularization techniques as they relate to this binary classification problem. This is achieved without the use of transfer learning or pretrained models."
   ]
  },
  {
   "cell_type": "markdown",
   "id": "d00a2261",
   "metadata": {},
   "source": [
    "### Data Preparation\n",
    "\n",
    "Data preparation is the foundation of any machine learning model. In this section, we delve into the systematic approach of preparing, augmenting, and loading data, ensuring our model is trained and tested effectively to mitigate overfitting and enhance generalization.\n",
    "\n",
    "Initially, we import necessary libraries and set up parameters and classes to manage our dataset. Our dataset is sourced from Kaggle and can be downloaded here (https://www.kaggle.com/c/dogs-vs-cats/data). This is a balanced dataset that comprises 12500 cats and 12500 dogs. We employ a CatsDogsDataset class to handle these images and their labels. This class, utilizing PyTorch's Dataset library, enables efficient data handling and transformations.\n",
    "\n",
    "We then define a Dogvscat class, which performs the core of our data preparation. It reads the images, converts them to grayscale for uniformity, and resizes them to a consistent dimension. Importantly, we randomly shuffle the data and split it into training and testing sets, ensuring a robust evaluation of our model's performance on unseen data.\n",
    "\n",
    "To address the critical challenge of overfitting, we implement data augmentation within the Dogvscat class. This process artificially expands the diversity of our training dataset by applying random, realistic transformations to the images, such as rotation, color jitter, and flips. This enhancement makes our model more resilient and better at generalizing from its training data.\n",
    "\n",
    "Once our data is augmented and split, we utilize PyTorch's DataLoader to efficiently batch and load the data during training and testing. This approach significantly improves memory usage and computational efficiency, crucial for handling large datasets and complex models."
   ]
  },
  {
   "cell_type": "code",
   "execution_count": 1,
   "id": "8b60cd2c",
   "metadata": {},
   "outputs": [],
   "source": [
    "import os\n",
    "import cv2\n",
    "import numpy as np\n",
    "from tqdm import tqdm\n",
    "import pickle\n",
    "import matplotlib.pyplot as plt\n",
    "import torch\n",
    "import torch.nn as nn\n",
    "import torch.nn.functional as F\n",
    "import torch.optim as optim\n",
    "import time\n",
    "from PIL import Image\n",
    "import torchvision.transforms as transforms\n",
    "from torch.utils.data import Dataset, DataLoader\n",
    "from torch.optim.lr_scheduler import ReduceLROnPlateau\n",
    "import matplotlib.pyplot as plt\n",
    "import seaborn as sns\n",
    "\n",
    "device = torch.device(\"cuda:0\") # Use GPU\n",
    "BATCH_SIZE = 400\n",
    "EPOCHS = 150\n",
    "IMG_SIZE_GLOBAL = 150"
   ]
  },
  {
   "cell_type": "code",
   "execution_count": 2,
   "id": "aebea9ff",
   "metadata": {},
   "outputs": [],
   "source": [
    "class CatsDogsDataset(Dataset):\n",
    "    def __init__(self, data, transform=None):\n",
    "        # Constructor method initializing the data and any transformations to be applied.\n",
    "        self.data = data\n",
    "        self.transform = transform\n",
    "\n",
    "    def __len__(self):\n",
    "        # Returns the total number of samples in the dataset.\n",
    "        return len(self.data)\n",
    "\n",
    "    def __getitem__(self, idx):\n",
    "        # Retrieves an image and its label by index and applies transformations if any.\n",
    "        img, label = self.data[idx]\n",
    "        img = Image.fromarray(img)  # Convert numpy array back to image.\n",
    "\n",
    "        if self.transform:\n",
    "            img = self.transform(img) # Apply the transformations to the image.\n",
    "        \n",
    "        \n",
    "        # Convert the image back to a tensor and return with its corresponding label.\n",
    "        return transforms.ToTensor()(img), torch.Tensor(label)\n",
    "\n",
    "# Data augmentation transformations.\n",
    "augmentation_transforms = transforms.Compose([\n",
    "    transforms.RandomAffine(degrees=0, translate=(0.1, 0.1)),  # 10% random horizontal and vertical shifts.\n",
    "    transforms.RandomHorizontalFlip(),  # Random horizontal flips.\n",
    "    transforms.ColorJitter(brightness=0.15, contrast=0.15),\n",
    "    transforms.RandomRotation(degrees=10)\n",
    "])\n",
    "\n",
    "# Main class for preparing the Cats vs. Dogs dataset.\n",
    "class Dogvscat():\n",
    "    IMG_SIZE = IMG_SIZE_GLOBAL\n",
    "    CATS = \"PetImages/Cat\"\n",
    "    DOGS = \"PetImages/Dog\"\n",
    "    LABELS = {CATS: 0, DOGS: 1} # Label encoding for cats and dogs.\n",
    "    training_data = []  # List to store training data.\n",
    "    testing_data = []  # List to store testing data.\n",
    "    catcount = 0  # Counter for the number of cat images.\n",
    "    dogcount = 0  # Counter for the number of dog images.\n",
    "    \n",
    "    def make_training_data(self):\n",
    "        # Process images, split into training and testing sets, and apply data augmentation.\n",
    "        for label in self.LABELS:\n",
    "            print(label)\n",
    "            for f in tqdm(os.listdir(label)):\n",
    "                try:\n",
    "                    path = os.path.join(label, f) # Create the full image path.\n",
    "                    img = Image.open(path).convert('L')  # Open and convert the image to grayscale.\n",
    "                    img = img.resize((self.IMG_SIZE, self.IMG_SIZE)) # Resize the image to IMG_SIZE.\n",
    "                    \n",
    "                    # Append the image and its label to the training_data list.\n",
    "                    self.training_data.append([np.array(img), np.eye(2)[self.LABELS[label]]])\n",
    "                    \n",
    "                    # Increment the cat or dog counter depending on the label.\n",
    "                    if label == self.CATS:\n",
    "                        self.catcount += 1\n",
    "                    elif label == self.DOGS:\n",
    "                        self.dogcount += 1\n",
    "                except Exception as e:\n",
    "                    #handle errors\n",
    "                    #print(str(e)) \n",
    "                    pass\n",
    "        \n",
    "        # Randomly shuffle the training data.\n",
    "        np.random.shuffle(self.training_data)\n",
    "        \n",
    "        # Splitting the data into 90% training and 10% testing.\n",
    "        train_size = int(0.9 * len(self.training_data))\n",
    "        self.testing_data = self.training_data[train_size:]\n",
    "        self.training_data = self.training_data[:train_size]\n",
    "\n",
    "        # Saving training and testing data separately\n",
    "        with open(\"training_data.pkl\", \"wb\") as f:\n",
    "            pickle.dump(self.training_data, f)\n",
    "        with open(\"testing_data.pkl\", \"wb\") as f:\n",
    "            pickle.dump(self.testing_data, f)\n",
    "        \n",
    "         # Initialize DataLoader for training and testing data for efficient batch processing during model training.\n",
    "        self.train_loader = DataLoader(CatsDogsDataset(self.training_data, transform=augmentation_transforms), batch_size=BATCH_SIZE, shuffle=True)\n",
    "        self.test_loader = DataLoader(CatsDogsDataset(self.testing_data), batch_size=BATCH_SIZE, shuffle=False)\n",
    "\n",
    "        # Print out the count of cat and dog images processed.\n",
    "        print(\"Cats: \", self.catcount)\n",
    "        print(\"Dogs: \", self.dogcount)"
   ]
  },
  {
   "cell_type": "code",
   "execution_count": 3,
   "id": "e5ac51d5",
   "metadata": {},
   "outputs": [
    {
     "name": "stdout",
     "output_type": "stream",
     "text": [
      "PetImages/Cat\n"
     ]
    },
    {
     "name": "stderr",
     "output_type": "stream",
     "text": [
      "100%|███████████████████████████████████████████████████████████████████████████| 12501/12501 [00:22<00:00, 566.89it/s]\n"
     ]
    },
    {
     "name": "stdout",
     "output_type": "stream",
     "text": [
      "PetImages/Dog\n"
     ]
    },
    {
     "name": "stderr",
     "output_type": "stream",
     "text": [
      " 91%|████████████████████████████████████████████████████████████████████▎      | 11396/12501 [00:20<00:02, 538.43it/s]C:\\ProgramData\\anaconda3\\Lib\\site-packages\\PIL\\TiffImagePlugin.py:858: UserWarning: Truncated File Read\n",
      "  warnings.warn(str(msg))\n",
      "100%|███████████████████████████████████████████████████████████████████████████| 12501/12501 [00:22<00:00, 549.52it/s]\n"
     ]
    },
    {
     "name": "stdout",
     "output_type": "stream",
     "text": [
      "Cats:  12499\n",
      "Dogs:  12499\n",
      "Data preparation complete.\n"
     ]
    }
   ],
   "source": [
    "# Create Data.\n",
    "dogvcat = Dogvscat()\n",
    "dogvcat.make_training_data()\n",
    "print(\"Data preparation complete.\")"
   ]
  },
  {
   "cell_type": "code",
   "execution_count": 4,
   "id": "26e6db63",
   "metadata": {},
   "outputs": [],
   "source": [
    "# Define data loaders with the appropriate transformations.\n",
    "\n",
    "train_loader = DataLoader(CatsDogsDataset(dogvcat.training_data, transform=augmentation_transforms), batch_size=BATCH_SIZE, shuffle=True)\n",
    "\n",
    "test_loader = DataLoader(CatsDogsDataset(dogvcat.testing_data), batch_size=BATCH_SIZE, shuffle=False)"
   ]
  },
  {
   "cell_type": "markdown",
   "id": "391b6f60",
   "metadata": {},
   "source": [
    "### Model Archetecture\n",
    "\n",
    "Our classification model is built on a Convolutional Neural Network (CNN), a deep learning architecture well-suited for analyzing visual imagery. CNNs excel in capturing spatial hierarchies in data by applying convolutional layers that filter inputs to produce feature maps. These maps highlight various aspects of the input data, such as edges and textures, which are crucial for image classification tasks.\n",
    "\n",
    "The network features four convolutional layers, each followed by a dropout layer to mitigate overfitting by randomly nullifying portions of the feature maps. This promotes the learning of more robust and generalizable features. After the convolutional and dropout stages, a 2x2 max pooling operation is applied, effectively reducing the spatial dimensions by half and enhancing the network's ability to extract dominant features while also improving computational efficiency.\n",
    "\n",
    "Sequentially, the model transitions from convolutional layers to a fully connected architecture. The output from the final pooling layer is flattened into a one-dimensional vector and then projected into a 512-dimensional space by the first dense layer. This process amalgamates the learned features across all preceding layers into a form suitable for classification.\n",
    "\n",
    "The final layer of the model is a fully connected layer that outputs a scalar value reflecting the model's confidence in the presence of the target class—in this case, distinguishing between images of dogs and cats.\n",
    "\n",
    "This scalar is then processed through a sigmoid activation function, scaling the output to a probability range between 0 and 1. The Binary Cross-Entropy Loss (BCELoss) function is employed as our loss function, chosen for its effectiveness in comparing the predicted probability with actual binary labels and penalizing incorrect predictions more severely."
   ]
  },
  {
   "cell_type": "code",
   "execution_count": 5,
   "id": "0aab1d53",
   "metadata": {},
   "outputs": [],
   "source": [
    "class Net(nn.Module):\n",
    "    def __init__(self):\n",
    "        super().__init__()\n",
    "        self.conv1 = nn.Conv2d(1, 32, 5)\n",
    "        self.conv2 = nn.Conv2d(32, 64, 5)\n",
    "        self.conv3 = nn.Conv2d(64, 128, 5)\n",
    "        self.conv4 = nn.Conv2d(128, 256, 5)\n",
    "        \n",
    "        # Testing dropout layers.\n",
    "        self.dropout1 = nn.Dropout(0.2)\n",
    "        self.dropout2 = nn.Dropout(0.2)\n",
    "        self.dropout3 = nn.Dropout(0.2)\n",
    "        self.dropout4 = nn.Dropout(0.5)\n",
    "        \n",
    "        # get the size after the conv layers.\n",
    "        x = torch.randn(IMG_SIZE_GLOBAL, IMG_SIZE_GLOBAL).view(-1, 1, IMG_SIZE_GLOBAL, IMG_SIZE_GLOBAL)\n",
    "\n",
    "        out = self.convs(x)\n",
    "        flattened_size = out.shape[1] * out.shape[2] * out.shape[3]  \n",
    "        \n",
    "        self.fc1 = nn.Linear(flattened_size, 512)\n",
    "        self.fc2 = nn.Linear(512, 1) # output\n",
    "        self.flatten = nn.Flatten()\n",
    "\n",
    "    def convs(self, x):\n",
    "        x = self.dropout1(F.max_pool2d(F.relu(self.conv1(x)), (2, 2)))\n",
    "        x = self.dropout2(F.max_pool2d(F.relu(self.conv2(x)), (2, 2)))\n",
    "        x = self.dropout3(F.max_pool2d(F.relu(self.conv3(x)), (2, 2))) \n",
    "        x = self.dropout4(F.max_pool2d(F.relu(self.conv4(x)), (2, 2)))\n",
    "        return x\n",
    "    \n",
    "        \n",
    "    def forward(self, x):\n",
    "        x = self.convs(x) # Pass through conv layers\n",
    "        x = self.flatten(x) # Flatten the tensor\n",
    "        x = self.dropout4(F.relu(self.fc1(x))) # Pass through first fully connected layer\n",
    "        x = self.fc2(x) # Pass through final layer\n",
    "        return torch.sigmoid(x) # Apply sigmoid for BCELoss\n",
    "\n",
    "net = Net().to(device)"
   ]
  },
  {
   "cell_type": "markdown",
   "id": "d16aea7c",
   "metadata": {},
   "source": [
    "### Training \n",
    "\n",
    "Our Convolutional Neural Network (CNN) now undergoes training through iterative epochs, each involving a forward propagation of data and subsequent parameter updates via backpropagation. The model's performance is periodically evaluated against a validation set through a separate testing function, providing loss and accuracy metrics.\n",
    "\n",
    "Each epoch represents a complete cycle of learning, with the model adjusting its weights to minimize the discrepancy between predicted and actual outcomes. Performance metrics are logged systematically to monitor and ensure convergence. From testing between various training runs our model performs quite well at around 50 epochs but I was able to yield tangible improvements by extending the training runs first to 100 and then to 150. "
   ]
  },
  {
   "cell_type": "code",
   "execution_count": 6,
   "id": "f4da568a",
   "metadata": {},
   "outputs": [],
   "source": [
    "def fwd_pass(x, y, train=False):\n",
    "    # If training, reset gradients of the model parameters.\n",
    "    if train:\n",
    "        net.zero_grad()\n",
    "    \n",
    "    # Feed the input batch through the network to obtain outputs.\n",
    "    outputs = net(x)\n",
    "    \n",
    "    # Calculate the loss between network outputs and true labels.\n",
    "    loss = loss_function(outputs, y.unsqueeze(1))  \n",
    "\n",
    "    # Compare output probability with threshold 0.5\n",
    "    predicted_classes = outputs > 0.5\n",
    "    \n",
    "    # Calculate the number of correct predictions by comparing to true labels.\n",
    "    correct = (predicted_classes.flatten() == y).float()  # Flatten to match dimensions with y\n",
    "    acc = correct.sum() / len(correct)\n",
    "\n",
    "    # If training, perform backpropagation and optimization.\n",
    "    if train:\n",
    "        loss.backward()\n",
    "        optimizer.step()\n",
    "    return acc, loss"
   ]
  },
  {
   "cell_type": "code",
   "execution_count": 7,
   "id": "a8132b45",
   "metadata": {},
   "outputs": [],
   "source": [
    "def test(size=32):\n",
    "    # Set the model to evaluation mode\n",
    "    net.eval()\n",
    "    if size > len(test_loader.dataset):\n",
    "        print(f\"Requested size {size} is too large for the available test data. Adjusting to {len(test_loader.dataset)}.\")\n",
    "        size = len(test_loader.dataset)\n",
    "\n",
    "    test_acc = 0\n",
    "    test_loss = 0\n",
    "    \n",
    "    # No gradient tracking needed for evaluation.\n",
    "    with torch.no_grad():\n",
    "        for batch_x, batch_y in test_loader:  \n",
    "            # Move the input batch and labels to the appropriate device.\n",
    "            batch_x = batch_x.view(-1, 1, IMG_SIZE_GLOBAL, IMG_SIZE_GLOBAL).to(device)\n",
    "            batch_y = batch_y[:,1].to(device)  \n",
    "            \n",
    "            # Perform forward pass and accumulate the accuracy and loss.\n",
    "            acc, loss = fwd_pass(batch_x, batch_y)\n",
    "            test_acc += acc.item()\n",
    "            test_loss += loss.item()\n",
    "    \n",
    "    # Calculate average accuracy and loss over the test set.\n",
    "    val_acc = test_acc / len(test_loader)\n",
    "    val_loss = test_loss / len(test_loader)\n",
    "\n",
    "    return val_acc, val_loss\n"
   ]
  },
  {
   "cell_type": "code",
   "execution_count": 8,
   "id": "67aa9f00",
   "metadata": {
    "scrolled": false
   },
   "outputs": [
    {
     "name": "stdout",
     "output_type": "stream",
     "text": [
      "model-1704436332\n"
     ]
    },
    {
     "name": "stderr",
     "output_type": "stream",
     "text": [
      "100%|██████████████████████████████████████████████████████████████████████████████████| 57/57 [00:36<00:00,  1.58it/s]\n"
     ]
    },
    {
     "name": "stdout",
     "output_type": "stream",
     "text": [
      "0.6862084524972099\n",
      "0.5314285499708993\n"
     ]
    },
    {
     "name": "stderr",
     "output_type": "stream",
     "text": [
      "100%|██████████████████████████████████████████████████████████████████████████████████| 57/57 [00:34<00:00,  1.64it/s]\n"
     ]
    },
    {
     "name": "stdout",
     "output_type": "stream",
     "text": [
      "0.6620032617024013\n",
      "0.6003571408135551\n"
     ]
    },
    {
     "name": "stderr",
     "output_type": "stream",
     "text": [
      "100%|██████████████████████████████████████████████████████████████████████████████████| 57/57 [00:34<00:00,  1.64it/s]\n"
     ]
    },
    {
     "name": "stdout",
     "output_type": "stream",
     "text": [
      "0.6386619125093732\n",
      "0.6307142632348197\n"
     ]
    },
    {
     "name": "stderr",
     "output_type": "stream",
     "text": [
      "100%|██████████████████████████████████████████████████████████████████████████████████| 57/57 [00:34<00:00,  1.64it/s]\n"
     ]
    },
    {
     "name": "stdout",
     "output_type": "stream",
     "text": [
      "0.6355620537485395\n",
      "0.6332142693655831\n"
     ]
    },
    {
     "name": "stderr",
     "output_type": "stream",
     "text": [
      "100%|██████████████████████████████████████████████████████████████████████████████████| 57/57 [00:34<00:00,  1.64it/s]\n"
     ]
    },
    {
     "name": "stdout",
     "output_type": "stream",
     "text": [
      "0.5741835577147347\n",
      "0.7153571248054504\n"
     ]
    },
    {
     "name": "stderr",
     "output_type": "stream",
     "text": [
      "100%|██████████████████████████████████████████████████████████████████████████████████| 57/57 [00:34<00:00,  1.64it/s]\n"
     ]
    },
    {
     "name": "stdout",
     "output_type": "stream",
     "text": [
      "0.5484974341733115\n",
      "0.706428553376879\n"
     ]
    },
    {
     "name": "stderr",
     "output_type": "stream",
     "text": [
      "100%|██████████████████████████████████████████████████████████████████████████████████| 57/57 [00:34<00:00,  1.63it/s]\n"
     ]
    },
    {
     "name": "stdout",
     "output_type": "stream",
     "text": [
      "0.47922103319849285\n",
      "0.7799999799047198\n"
     ]
    },
    {
     "name": "stderr",
     "output_type": "stream",
     "text": [
      "100%|██████████████████████████████████████████████████████████████████████████████████| 57/57 [00:34<00:00,  1.64it/s]\n"
     ]
    },
    {
     "name": "stdout",
     "output_type": "stream",
     "text": [
      "0.4565731542451041\n",
      "0.7849999836512974\n"
     ]
    },
    {
     "name": "stderr",
     "output_type": "stream",
     "text": [
      "100%|██████████████████████████████████████████████████████████████████████████████████| 57/57 [00:34<00:00,  1.64it/s]\n"
     ]
    },
    {
     "name": "stdout",
     "output_type": "stream",
     "text": [
      "0.3979074146066393\n",
      "0.8207142693655831\n"
     ]
    },
    {
     "name": "stderr",
     "output_type": "stream",
     "text": [
      "100%|██████████████████████████████████████████████████████████████████████████████████| 57/57 [00:34<00:00,  1.64it/s]\n"
     ]
    },
    {
     "name": "stdout",
     "output_type": "stream",
     "text": [
      "0.424616630588259\n",
      "0.8124999744551522\n"
     ]
    },
    {
     "name": "stderr",
     "output_type": "stream",
     "text": [
      "100%|██████████████████████████████████████████████████████████████████████████████████| 57/57 [00:34<00:00,  1.64it/s]\n"
     ]
    },
    {
     "name": "stdout",
     "output_type": "stream",
     "text": [
      "0.3453301659652165\n",
      "0.84178569487163\n"
     ]
    },
    {
     "name": "stderr",
     "output_type": "stream",
     "text": [
      "100%|██████████████████████████████████████████████████████████████████████████████████| 57/57 [00:34<00:00,  1.64it/s]\n"
     ]
    },
    {
     "name": "stdout",
     "output_type": "stream",
     "text": [
      "0.35889476111957\n",
      "0.832499989441463\n"
     ]
    },
    {
     "name": "stderr",
     "output_type": "stream",
     "text": [
      "100%|██████████████████████████████████████████████████████████████████████████████████| 57/57 [00:34<00:00,  1.64it/s]\n"
     ]
    },
    {
     "name": "stdout",
     "output_type": "stream",
     "text": [
      "0.32949118529047283\n",
      "0.8574999741145543\n"
     ]
    },
    {
     "name": "stderr",
     "output_type": "stream",
     "text": [
      "100%|██████████████████████████████████████████████████████████████████████████████████| 57/57 [00:34<00:00,  1.64it/s]\n"
     ]
    },
    {
     "name": "stdout",
     "output_type": "stream",
     "text": [
      "0.2942057379654476\n",
      "0.8610714163099017\n"
     ]
    },
    {
     "name": "stderr",
     "output_type": "stream",
     "text": [
      "100%|██████████████████████████████████████████████████████████████████████████████████| 57/57 [00:34<00:00,  1.64it/s]\n"
     ]
    },
    {
     "name": "stdout",
     "output_type": "stream",
     "text": [
      "0.28076454997062683\n",
      "0.8760714190346854\n"
     ]
    },
    {
     "name": "stderr",
     "output_type": "stream",
     "text": [
      "100%|██████████████████████████████████████████████████████████████████████████████████| 57/57 [00:34<00:00,  1.64it/s]\n"
     ]
    },
    {
     "name": "stdout",
     "output_type": "stream",
     "text": [
      "0.3124330682413919\n",
      "0.8571428315980094\n"
     ]
    },
    {
     "name": "stderr",
     "output_type": "stream",
     "text": [
      "100%|██████████████████████████████████████████████████████████████████████████████████| 57/57 [00:34<00:00,  1.63it/s]\n"
     ]
    },
    {
     "name": "stdout",
     "output_type": "stream",
     "text": [
      "0.24866729548999242\n",
      "0.8864285605294364\n"
     ]
    },
    {
     "name": "stderr",
     "output_type": "stream",
     "text": [
      "100%|██████████████████████████████████████████████████████████████████████████████████| 57/57 [00:34<00:00,  1.64it/s]\n"
     ]
    },
    {
     "name": "stdout",
     "output_type": "stream",
     "text": [
      "0.2398493311234883\n",
      "0.893928553376879\n"
     ]
    },
    {
     "name": "stderr",
     "output_type": "stream",
     "text": [
      "100%|██████████████████████████████████████████████████████████████████████████████████| 57/57 [00:34<00:00,  1.64it/s]\n"
     ]
    },
    {
     "name": "stdout",
     "output_type": "stream",
     "text": [
      "0.24443045684269496\n",
      "0.8921428322792053\n"
     ]
    },
    {
     "name": "stderr",
     "output_type": "stream",
     "text": [
      "100%|██████████████████████████████████████████████████████████████████████████████████| 57/57 [00:34<00:00,  1.64it/s]\n"
     ]
    },
    {
     "name": "stdout",
     "output_type": "stream",
     "text": [
      "0.29923988027232035\n",
      "0.8660714115415301\n"
     ]
    },
    {
     "name": "stderr",
     "output_type": "stream",
     "text": [
      "100%|██████████████████████████████████████████████████████████████████████████████████| 57/57 [00:34<00:00,  1.64it/s]\n"
     ]
    },
    {
     "name": "stdout",
     "output_type": "stream",
     "text": [
      "0.2205470140491213\n",
      "0.9049999713897705\n"
     ]
    },
    {
     "name": "stderr",
     "output_type": "stream",
     "text": [
      "100%|██████████████████████████████████████████████████████████████████████████████████| 57/57 [00:34<00:00,  1.64it/s]\n"
     ]
    },
    {
     "name": "stdout",
     "output_type": "stream",
     "text": [
      "0.21725034075123922\n",
      "0.9117856792041233\n"
     ]
    },
    {
     "name": "stderr",
     "output_type": "stream",
     "text": [
      "100%|██████████████████████████████████████████████████████████████████████████████████| 57/57 [00:34<00:00,  1.64it/s]\n"
     ]
    },
    {
     "name": "stdout",
     "output_type": "stream",
     "text": [
      "0.3169165125914982\n",
      "0.8624999863760812\n"
     ]
    },
    {
     "name": "stderr",
     "output_type": "stream",
     "text": [
      "100%|██████████████████████████████████████████████████████████████████████████████████| 57/57 [00:34<00:00,  1.64it/s]\n"
     ]
    },
    {
     "name": "stdout",
     "output_type": "stream",
     "text": [
      "0.20799754134246282\n",
      "0.9071428264890399\n"
     ]
    },
    {
     "name": "stderr",
     "output_type": "stream",
     "text": [
      "100%|██████████████████████████████████████████████████████████████████████████████████| 57/57 [00:34<00:00,  1.64it/s]\n"
     ]
    },
    {
     "name": "stdout",
     "output_type": "stream",
     "text": [
      "0.22100155907017843\n",
      "0.9067857010023934\n"
     ]
    },
    {
     "name": "stderr",
     "output_type": "stream",
     "text": [
      "100%|██████████████████████████████████████████████████████████████████████████████████| 57/57 [00:34<00:00,  1.63it/s]\n"
     ]
    },
    {
     "name": "stdout",
     "output_type": "stream",
     "text": [
      "0.20805938754762923\n",
      "0.9053571139063153\n"
     ]
    },
    {
     "name": "stderr",
     "output_type": "stream",
     "text": [
      "100%|██████████████████████████████████████████████████████████████████████████████████| 57/57 [00:34<00:00,  1.64it/s]\n"
     ]
    },
    {
     "name": "stdout",
     "output_type": "stream",
     "text": [
      "0.19117981408323562\n",
      "0.9178571105003357\n"
     ]
    },
    {
     "name": "stderr",
     "output_type": "stream",
     "text": [
      "100%|██████████████████████████████████████████████████████████████████████████████████| 57/57 [00:34<00:00,  1.64it/s]\n"
     ]
    },
    {
     "name": "stdout",
     "output_type": "stream",
     "text": [
      "0.18190454585211618\n",
      "0.9296428390911647\n"
     ]
    },
    {
     "name": "stderr",
     "output_type": "stream",
     "text": [
      "100%|██████████████████████████████████████████████████████████████████████████████████| 57/57 [00:34<00:00,  1.64it/s]\n"
     ]
    },
    {
     "name": "stdout",
     "output_type": "stream",
     "text": [
      "0.19133060106209346\n",
      "0.9178571105003357\n"
     ]
    },
    {
     "name": "stderr",
     "output_type": "stream",
     "text": [
      "100%|██████████████████████████████████████████████████████████████████████████████████| 57/57 [00:34<00:00,  1.64it/s]\n"
     ]
    },
    {
     "name": "stdout",
     "output_type": "stream",
     "text": [
      "0.17640305629798345\n",
      "0.9267856904438564\n"
     ]
    },
    {
     "name": "stderr",
     "output_type": "stream",
     "text": [
      "100%|██████████████████████████████████████████████████████████████████████████████████| 57/57 [00:34<00:00,  1.64it/s]\n"
     ]
    },
    {
     "name": "stdout",
     "output_type": "stream",
     "text": [
      "0.17690024844237737\n",
      "0.9253571288926261\n"
     ]
    },
    {
     "name": "stderr",
     "output_type": "stream",
     "text": [
      "100%|██████████████████████████████████████████████████████████████████████████████████| 57/57 [00:34<00:00,  1.64it/s]\n"
     ]
    },
    {
     "name": "stdout",
     "output_type": "stream",
     "text": [
      "0.20082320698669978\n",
      "0.9146428278514317\n"
     ]
    },
    {
     "name": "stderr",
     "output_type": "stream",
     "text": [
      "100%|██████████████████████████████████████████████████████████████████████████████████| 57/57 [00:34<00:00,  1.64it/s]\n"
     ]
    },
    {
     "name": "stdout",
     "output_type": "stream",
     "text": [
      "0.16468480016504014\n",
      "0.9264285479273114\n"
     ]
    },
    {
     "name": "stderr",
     "output_type": "stream",
     "text": [
      "100%|██████████████████████████████████████████████████████████████████████████████████| 57/57 [00:34<00:00,  1.64it/s]\n"
     ]
    },
    {
     "name": "stdout",
     "output_type": "stream",
     "text": [
      "0.16995014250278473\n",
      "0.9299999816077096\n"
     ]
    },
    {
     "name": "stderr",
     "output_type": "stream",
     "text": [
      "100%|██████████████████████████████████████████████████████████████████████████████████| 57/57 [00:34<00:00,  1.64it/s]\n"
     ]
    },
    {
     "name": "stdout",
     "output_type": "stream",
     "text": [
      "0.1763234862259456\n",
      "0.9235713992800031\n"
     ]
    },
    {
     "name": "stderr",
     "output_type": "stream",
     "text": [
      "100%|██████████████████████████████████████████████████████████████████████████████████| 57/57 [00:34<00:00,  1.64it/s]\n"
     ]
    },
    {
     "name": "stdout",
     "output_type": "stream",
     "text": [
      "0.16237347253731318\n",
      "0.9332142642566136\n"
     ]
    },
    {
     "name": "stderr",
     "output_type": "stream",
     "text": [
      "100%|██████████████████████████████████████████████████████████████████████████████████| 57/57 [00:34<00:00,  1.64it/s]\n"
     ]
    },
    {
     "name": "stdout",
     "output_type": "stream",
     "text": [
      "0.17399196113858903\n",
      "0.9303571156093052\n"
     ]
    },
    {
     "name": "stderr",
     "output_type": "stream",
     "text": [
      "100%|██████████████████████████████████████████████████████████████████████████████████| 57/57 [00:34<00:00,  1.64it/s]\n"
     ]
    },
    {
     "name": "stdout",
     "output_type": "stream",
     "text": [
      "0.1679696078811373\n",
      "0.9307142581258502\n"
     ]
    },
    {
     "name": "stderr",
     "output_type": "stream",
     "text": [
      "100%|██████████████████████████████████████████████████████████████████████████████████| 57/57 [00:34<00:00,  1.64it/s]\n"
     ]
    },
    {
     "name": "stdout",
     "output_type": "stream",
     "text": [
      "0.18640229531696864\n",
      "0.9224999717303685\n"
     ]
    },
    {
     "name": "stderr",
     "output_type": "stream",
     "text": [
      "100%|██████████████████████████████████████████████████████████████████████████████████| 57/57 [00:34<00:00,  1.64it/s]\n"
     ]
    },
    {
     "name": "stdout",
     "output_type": "stream",
     "text": [
      "0.24960915531430924\n",
      "0.8910714132445199\n"
     ]
    },
    {
     "name": "stderr",
     "output_type": "stream",
     "text": [
      "100%|██████████████████████████████████████████████████████████████████████████████████| 57/57 [00:34<00:00,  1.64it/s]\n"
     ]
    },
    {
     "name": "stdout",
     "output_type": "stream",
     "text": [
      "0.18683128484657832\n",
      "0.9196428230830601\n"
     ]
    },
    {
     "name": "stderr",
     "output_type": "stream",
     "text": [
      "100%|██████████████████████████████████████████████████████████████████████████████████| 57/57 [00:34<00:00,  1.64it/s]\n"
     ]
    },
    {
     "name": "stdout",
     "output_type": "stream",
     "text": [
      "0.1723994037934712\n",
      "0.928214260510036\n"
     ]
    },
    {
     "name": "stderr",
     "output_type": "stream",
     "text": [
      "100%|██████████████████████████████████████████████████████████████████████████████████| 57/57 [00:34<00:00,  1.63it/s]\n"
     ]
    },
    {
     "name": "stdout",
     "output_type": "stream",
     "text": [
      "0.19498789949076517\n",
      "0.9153571128845215\n"
     ]
    },
    {
     "name": "stderr",
     "output_type": "stream",
     "text": [
      "100%|██████████████████████████████████████████████████████████████████████████████████| 57/57 [00:34<00:00,  1.64it/s]\n"
     ]
    },
    {
     "name": "stdout",
     "output_type": "stream",
     "text": [
      "0.1487385481595993\n",
      "0.9396428465843201\n"
     ]
    },
    {
     "name": "stderr",
     "output_type": "stream",
     "text": [
      "100%|██████████████████████████████████████████████████████████████████████████████████| 57/57 [00:34<00:00,  1.64it/s]\n"
     ]
    },
    {
     "name": "stdout",
     "output_type": "stream",
     "text": [
      "0.17020795813628606\n",
      "0.9303571241242545\n"
     ]
    },
    {
     "name": "stderr",
     "output_type": "stream",
     "text": [
      "100%|██████████████████████████████████████████████████████████████████████████████████| 57/57 [00:34<00:00,  1.64it/s]\n"
     ]
    },
    {
     "name": "stdout",
     "output_type": "stream",
     "text": [
      "0.15488914506775991\n",
      "0.9353571363857814\n"
     ]
    },
    {
     "name": "stderr",
     "output_type": "stream",
     "text": [
      "100%|██████████████████████████████████████████████████████████████████████████████████| 57/57 [00:34<00:00,  1.65it/s]\n"
     ]
    },
    {
     "name": "stdout",
     "output_type": "stream",
     "text": [
      "0.15044939730848586\n",
      "0.9346428428377423\n"
     ]
    },
    {
     "name": "stderr",
     "output_type": "stream",
     "text": [
      "100%|██████████████████████████████████████████████████████████████████████████████████| 57/57 [00:34<00:00,  1.64it/s]\n"
     ]
    },
    {
     "name": "stdout",
     "output_type": "stream",
     "text": [
      "0.15016320134912217\n",
      "0.940714282648904\n"
     ]
    },
    {
     "name": "stderr",
     "output_type": "stream",
     "text": [
      "100%|██████████████████████████████████████████████████████████████████████████████████| 57/57 [00:34<00:00,  1.65it/s]\n"
     ]
    },
    {
     "name": "stdout",
     "output_type": "stream",
     "text": [
      "0.17447988050324575\n",
      "0.9264285394123623\n"
     ]
    },
    {
     "name": "stderr",
     "output_type": "stream",
     "text": [
      "100%|██████████████████████████████████████████████████████████████████████████████████| 57/57 [00:34<00:00,  1.64it/s]\n"
     ]
    },
    {
     "name": "stdout",
     "output_type": "stream",
     "text": [
      "0.1522193221109254\n",
      "0.9335714152881077\n"
     ]
    },
    {
     "name": "stderr",
     "output_type": "stream",
     "text": [
      "100%|██████████████████████████████████████████████████████████████████████████████████| 57/57 [00:34<00:00,  1.65it/s]\n"
     ]
    },
    {
     "name": "stdout",
     "output_type": "stream",
     "text": [
      "0.15857969437326705\n",
      "0.9332142727715629\n"
     ]
    },
    {
     "name": "stderr",
     "output_type": "stream",
     "text": [
      "100%|██████████████████████████████████████████████████████████████████████████████████| 57/57 [00:34<00:00,  1.64it/s]\n"
     ]
    },
    {
     "name": "stdout",
     "output_type": "stream",
     "text": [
      "0.13999204550470626\n",
      "0.9382142765181405\n"
     ]
    },
    {
     "name": "stderr",
     "output_type": "stream",
     "text": [
      "100%|██████████████████████████████████████████████████████████████████████████████████| 57/57 [00:34<00:00,  1.64it/s]\n"
     ]
    },
    {
     "name": "stdout",
     "output_type": "stream",
     "text": [
      "0.14218268437044962\n",
      "0.9439285567828587\n"
     ]
    },
    {
     "name": "stderr",
     "output_type": "stream",
     "text": [
      "100%|██████████████████████████████████████████████████████████████████████████████████| 57/57 [00:34<00:00,  1.65it/s]\n"
     ]
    },
    {
     "name": "stdout",
     "output_type": "stream",
     "text": [
      "0.14945651590824127\n",
      "0.9364285554204669\n"
     ]
    },
    {
     "name": "stderr",
     "output_type": "stream",
     "text": [
      "100%|██████████████████████████████████████████████████████████████████████████████████| 57/57 [00:34<00:00,  1.64it/s]\n"
     ]
    },
    {
     "name": "stdout",
     "output_type": "stream",
     "text": [
      "0.1479455413562911\n",
      "0.9396428380693708\n"
     ]
    },
    {
     "name": "stderr",
     "output_type": "stream",
     "text": [
      "100%|██████████████████████████████████████████████████████████████████████████████████| 57/57 [00:34<00:00,  1.65it/s]\n"
     ]
    },
    {
     "name": "stdout",
     "output_type": "stream",
     "text": [
      "0.13873858004808426\n",
      "0.9460714203970773\n"
     ]
    },
    {
     "name": "stderr",
     "output_type": "stream",
     "text": [
      "100%|██████████████████████████████████████████████████████████████████████████████████| 57/57 [00:34<00:00,  1.64it/s]\n"
     ]
    },
    {
     "name": "stdout",
     "output_type": "stream",
     "text": [
      "0.14027945271560124\n",
      "0.9392857125827244\n"
     ]
    },
    {
     "name": "stderr",
     "output_type": "stream",
     "text": [
      "100%|██████████████████████████████████████████████████████████████████████████████████| 57/57 [00:34<00:00,  1.64it/s]\n"
     ]
    },
    {
     "name": "stdout",
     "output_type": "stream",
     "text": [
      "0.1548211702278682\n",
      "0.9342856918062482\n"
     ]
    },
    {
     "name": "stderr",
     "output_type": "stream",
     "text": [
      "100%|██████████████████████████████████████████████████████████████████████████████████| 57/57 [00:34<00:00,  1.64it/s]\n"
     ]
    },
    {
     "name": "stdout",
     "output_type": "stream",
     "text": [
      "0.17013075947761536\n",
      "0.931785694190434\n"
     ]
    },
    {
     "name": "stderr",
     "output_type": "stream",
     "text": [
      "100%|██████████████████████████████████████████████████████████████████████████████████| 57/57 [00:34<00:00,  1.64it/s]\n"
     ]
    },
    {
     "name": "stdout",
     "output_type": "stream",
     "text": [
      "0.1466058279786791\n",
      "0.9399999891008649\n"
     ]
    },
    {
     "name": "stderr",
     "output_type": "stream",
     "text": [
      "100%|██████████████████████████████████████████████████████████████████████████████████| 57/57 [00:34<00:00,  1.64it/s]\n"
     ]
    },
    {
     "name": "stdout",
     "output_type": "stream",
     "text": [
      "0.13244993558951787\n",
      "0.9442857078143528\n"
     ]
    },
    {
     "name": "stderr",
     "output_type": "stream",
     "text": [
      "100%|██████████████████████████████████████████████████████████████████████████████████| 57/57 [00:34<00:00,  1.64it/s]\n"
     ]
    },
    {
     "name": "stdout",
     "output_type": "stream",
     "text": [
      "0.13749862888029643\n",
      "0.9428571377481733\n"
     ]
    },
    {
     "name": "stderr",
     "output_type": "stream",
     "text": [
      "100%|██████████████████████████████████████████████████████████████████████████████████| 57/57 [00:34<00:00,  1.65it/s]\n"
     ]
    },
    {
     "name": "stdout",
     "output_type": "stream",
     "text": [
      "0.14153720970664704\n",
      "0.9382142765181405\n"
     ]
    },
    {
     "name": "stderr",
     "output_type": "stream",
     "text": [
      "100%|██████████████████████████████████████████████████████████████████████████████████| 57/57 [00:34<00:00,  1.65it/s]\n"
     ]
    },
    {
     "name": "stdout",
     "output_type": "stream",
     "text": [
      "0.14538721846682684\n",
      "0.9389285700661796\n"
     ]
    },
    {
     "name": "stderr",
     "output_type": "stream",
     "text": [
      "100%|██████████████████████████████████████████████████████████████████████████████████| 57/57 [00:34<00:00,  1.64it/s]\n"
     ]
    },
    {
     "name": "stdout",
     "output_type": "stream",
     "text": [
      "0.1410482366170202\n",
      "0.9424999952316284\n"
     ]
    },
    {
     "name": "stderr",
     "output_type": "stream",
     "text": [
      "100%|██████████████████████████████████████████████████████████████████████████████████| 57/57 [00:34<00:00,  1.65it/s]\n"
     ]
    },
    {
     "name": "stdout",
     "output_type": "stream",
     "text": [
      "0.15050373652151652\n",
      "0.9353571278708321\n"
     ]
    },
    {
     "name": "stderr",
     "output_type": "stream",
     "text": [
      "100%|██████████████████████████████████████████████████████████████████████████████████| 57/57 [00:34<00:00,  1.64it/s]\n"
     ]
    },
    {
     "name": "stdout",
     "output_type": "stream",
     "text": [
      "0.1488840260675975\n",
      "0.9382142765181405\n"
     ]
    },
    {
     "name": "stderr",
     "output_type": "stream",
     "text": [
      "100%|██████████████████████████████████████████████████████████████████████████████████| 57/57 [00:34<00:00,  1.64it/s]\n"
     ]
    },
    {
     "name": "stdout",
     "output_type": "stream",
     "text": [
      "0.13915383922202246\n",
      "0.9396428465843201\n"
     ]
    },
    {
     "name": "stderr",
     "output_type": "stream",
     "text": [
      "100%|██████████████████████████████████████████████████████████████████████████████████| 57/57 [00:34<00:00,  1.64it/s]\n"
     ]
    },
    {
     "name": "stdout",
     "output_type": "stream",
     "text": [
      "0.16742900546107972\n",
      "0.9296428390911647\n"
     ]
    },
    {
     "name": "stderr",
     "output_type": "stream",
     "text": [
      "100%|██████████████████████████████████████████████████████████████████████████████████| 57/57 [00:34<00:00,  1.64it/s]\n"
     ]
    },
    {
     "name": "stdout",
     "output_type": "stream",
     "text": [
      "0.13338561249630793\n",
      "0.9453571353639875\n"
     ]
    },
    {
     "name": "stderr",
     "output_type": "stream",
     "text": [
      "100%|██████████████████████████████████████████████████████████████████████████████████| 57/57 [00:34<00:00,  1.64it/s]\n"
     ]
    },
    {
     "name": "stdout",
     "output_type": "stream",
     "text": [
      "0.1462635642715863\n",
      "0.9360714129039219\n"
     ]
    },
    {
     "name": "stderr",
     "output_type": "stream",
     "text": [
      "100%|██████████████████████████████████████████████████████████████████████████████████| 57/57 [00:34<00:00,  1.64it/s]\n"
     ]
    },
    {
     "name": "stdout",
     "output_type": "stream",
     "text": [
      "0.1433631948062352\n",
      "0.9414285591670445\n"
     ]
    },
    {
     "name": "stderr",
     "output_type": "stream",
     "text": [
      "100%|██████████████████████████████████████████████████████████████████████████████████| 57/57 [00:34<00:00,  1.65it/s]\n"
     ]
    },
    {
     "name": "stdout",
     "output_type": "stream",
     "text": [
      "0.13459180827651704\n",
      "0.9382142765181405\n"
     ]
    },
    {
     "name": "stderr",
     "output_type": "stream",
     "text": [
      "100%|██████████████████████████████████████████████████████████████████████████████████| 57/57 [00:34<00:00,  1.65it/s]\n"
     ]
    },
    {
     "name": "stdout",
     "output_type": "stream",
     "text": [
      "0.13459009251424245\n",
      "0.9449999928474426\n"
     ]
    },
    {
     "name": "stderr",
     "output_type": "stream",
     "text": [
      "100%|██████████████████████████████████████████████████████████████████████████████████| 57/57 [00:34<00:00,  1.64it/s]\n"
     ]
    },
    {
     "name": "stdout",
     "output_type": "stream",
     "text": [
      "0.13406223271574294\n",
      "0.9460714203970773\n"
     ]
    },
    {
     "name": "stderr",
     "output_type": "stream",
     "text": [
      "100%|██████████████████████████████████████████████████████████████████████████████████| 57/57 [00:34<00:00,  1.65it/s]\n"
     ]
    },
    {
     "name": "stdout",
     "output_type": "stream",
     "text": [
      "0.1348039231130055\n",
      "0.9464285629136222\n"
     ]
    },
    {
     "name": "stderr",
     "output_type": "stream",
     "text": [
      "100%|██████████████████████████████████████████████████████████████████████████████████| 57/57 [00:34<00:00,  1.65it/s]\n"
     ]
    },
    {
     "name": "stdout",
     "output_type": "stream",
     "text": [
      "0.13664640273366654\n",
      "0.9417857016835894\n"
     ]
    },
    {
     "name": "stderr",
     "output_type": "stream",
     "text": [
      "100%|██████████████████████████████████████████████████████████████████████████████████| 57/57 [00:34<00:00,  1.64it/s]\n"
     ]
    },
    {
     "name": "stdout",
     "output_type": "stream",
     "text": [
      "0.1607100729431425\n",
      "0.9321428452219281\n"
     ]
    },
    {
     "name": "stderr",
     "output_type": "stream",
     "text": [
      "100%|██████████████████████████████████████████████████████████████████████████████████| 57/57 [00:34<00:00,  1.64it/s]\n"
     ]
    },
    {
     "name": "stdout",
     "output_type": "stream",
     "text": [
      "0.1388254165649414\n",
      "0.9446428418159485\n"
     ]
    },
    {
     "name": "stderr",
     "output_type": "stream",
     "text": [
      "100%|██████████████████████████████████████████████████████████████████████████████████| 57/57 [00:34<00:00,  1.65it/s]\n"
     ]
    },
    {
     "name": "stdout",
     "output_type": "stream",
     "text": [
      "0.15453661658934184\n",
      "0.9353571363857814\n"
     ]
    },
    {
     "name": "stderr",
     "output_type": "stream",
     "text": [
      "100%|██████████████████████████████████████████████████████████████████████████████████| 57/57 [00:34<00:00,  1.65it/s]\n"
     ]
    },
    {
     "name": "stdout",
     "output_type": "stream",
     "text": [
      "0.15350026105131423\n",
      "0.9374999914850507\n"
     ]
    },
    {
     "name": "stderr",
     "output_type": "stream",
     "text": [
      "100%|██████████████████████████████████████████████████████████████████████████████████| 57/57 [00:34<00:00,  1.64it/s]\n"
     ]
    },
    {
     "name": "stdout",
     "output_type": "stream",
     "text": [
      "0.13322113241468156\n",
      "0.9424999867166791\n"
     ]
    },
    {
     "name": "stderr",
     "output_type": "stream",
     "text": [
      "100%|██████████████████████████████████████████████████████████████████████████████████| 57/57 [00:34<00:00,  1.64it/s]\n"
     ]
    },
    {
     "name": "stdout",
     "output_type": "stream",
     "text": [
      "0.1299538974251066\n",
      "0.946785705430167\n"
     ]
    },
    {
     "name": "stderr",
     "output_type": "stream",
     "text": [
      "100%|██████████████████████████████████████████████████████████████████████████████████| 57/57 [00:34<00:00,  1.65it/s]\n"
     ]
    },
    {
     "name": "stdout",
     "output_type": "stream",
     "text": [
      "0.14317388939005987\n",
      "0.9410714251654488\n"
     ]
    },
    {
     "name": "stderr",
     "output_type": "stream",
     "text": [
      "100%|██████████████████████████████████████████████████████████████████████████████████| 57/57 [00:34<00:00,  1.64it/s]\n"
     ]
    },
    {
     "name": "stdout",
     "output_type": "stream",
     "text": [
      "0.1462184957095555\n",
      "0.9392857125827244\n"
     ]
    },
    {
     "name": "stderr",
     "output_type": "stream",
     "text": [
      "100%|██████████████████████████████████████████████████████████████████████████████████| 57/57 [00:34<00:00,  1.65it/s]\n"
     ]
    },
    {
     "name": "stdout",
     "output_type": "stream",
     "text": [
      "0.13110827122415816\n",
      "0.9464285629136222\n"
     ]
    },
    {
     "name": "stderr",
     "output_type": "stream",
     "text": [
      "100%|██████████████████████████████████████████████████████████████████████████████████| 57/57 [00:34<00:00,  1.64it/s]\n"
     ]
    },
    {
     "name": "stdout",
     "output_type": "stream",
     "text": [
      "0.14138815658433096\n",
      "0.9417857016835894\n"
     ]
    },
    {
     "name": "stderr",
     "output_type": "stream",
     "text": [
      "100%|██████████████████████████████████████████████████████████████████████████████████| 57/57 [00:34<00:00,  1.65it/s]\n"
     ]
    },
    {
     "name": "stdout",
     "output_type": "stream",
     "text": [
      "0.13126261745180404\n",
      "0.9503571305956159\n"
     ]
    },
    {
     "name": "stderr",
     "output_type": "stream",
     "text": [
      "100%|██████████████████████████████████████████████████████████████████████████████████| 57/57 [00:34<00:00,  1.65it/s]\n"
     ]
    },
    {
     "name": "stdout",
     "output_type": "stream",
     "text": [
      "0.12342420646122523\n",
      "0.946785705430167\n"
     ]
    },
    {
     "name": "stderr",
     "output_type": "stream",
     "text": [
      "100%|██████████████████████████████████████████████████████████████████████████████████| 57/57 [00:34<00:00,  1.65it/s]\n"
     ]
    },
    {
     "name": "stdout",
     "output_type": "stream",
     "text": [
      "0.14947761914559773\n",
      "0.9389285530362811\n"
     ]
    },
    {
     "name": "stderr",
     "output_type": "stream",
     "text": [
      "100%|██████████████████████████████████████████████████████████████████████████████████| 57/57 [00:34<00:00,  1.65it/s]\n"
     ]
    },
    {
     "name": "stdout",
     "output_type": "stream",
     "text": [
      "0.1256619734423501\n",
      "0.9524999856948853\n"
     ]
    },
    {
     "name": "stderr",
     "output_type": "stream",
     "text": [
      "100%|██████████████████████████████████████████████████████████████████████████████████| 57/57 [00:34<00:00,  1.64it/s]\n"
     ]
    },
    {
     "name": "stdout",
     "output_type": "stream",
     "text": [
      "0.1594933196902275\n",
      "0.9364285554204669\n"
     ]
    },
    {
     "name": "stderr",
     "output_type": "stream",
     "text": [
      "100%|██████████████████████████████████████████████████████████████████████████████████| 57/57 [00:34<00:00,  1.65it/s]\n"
     ]
    },
    {
     "name": "stdout",
     "output_type": "stream",
     "text": [
      "0.13194875419139862\n",
      "0.9457142778805324\n"
     ]
    },
    {
     "name": "stderr",
     "output_type": "stream",
     "text": [
      "100%|██████████████████████████████████████████████████████████████████████████████████| 57/57 [00:34<00:00,  1.64it/s]\n"
     ]
    },
    {
     "name": "stdout",
     "output_type": "stream",
     "text": [
      "0.14935619490487234\n",
      "0.9360714129039219\n"
     ]
    },
    {
     "name": "stderr",
     "output_type": "stream",
     "text": [
      "100%|██████████████████████████████████████████████████████████████████████████████████| 57/57 [00:34<00:00,  1.64it/s]\n"
     ]
    },
    {
     "name": "stdout",
     "output_type": "stream",
     "text": [
      "0.1403945130961282\n",
      "0.9421428527150836\n"
     ]
    },
    {
     "name": "stderr",
     "output_type": "stream",
     "text": [
      "100%|██████████████████████████████████████████████████████████████████████████████████| 57/57 [00:34<00:00,  1.65it/s]\n"
     ]
    },
    {
     "name": "stdout",
     "output_type": "stream",
     "text": [
      "0.12277165481022426\n",
      "0.9460714203970773\n"
     ]
    },
    {
     "name": "stderr",
     "output_type": "stream",
     "text": [
      "100%|██████████████████████████████████████████████████████████████████████████████████| 57/57 [00:34<00:00,  1.65it/s]\n"
     ]
    },
    {
     "name": "stdout",
     "output_type": "stream",
     "text": [
      "0.13178602712494986\n",
      "0.946785705430167\n"
     ]
    },
    {
     "name": "stderr",
     "output_type": "stream",
     "text": [
      "100%|██████████████████████████████████████████████████████████████████████████████████| 57/57 [00:34<00:00,  1.64it/s]\n"
     ]
    },
    {
     "name": "stdout",
     "output_type": "stream",
     "text": [
      "0.12688173672982625\n",
      "0.9453571353639875\n"
     ]
    },
    {
     "name": "stderr",
     "output_type": "stream",
     "text": [
      "100%|██████████████████████████████████████████████████████████████████████████████████| 57/57 [00:34<00:00,  1.64it/s]\n"
     ]
    },
    {
     "name": "stdout",
     "output_type": "stream",
     "text": [
      "0.12184142853532519\n",
      "0.9496428455625262\n"
     ]
    },
    {
     "name": "stderr",
     "output_type": "stream",
     "text": [
      "100%|██████████████████████████████████████████████████████████████████████████████████| 57/57 [00:34<00:00,  1.65it/s]\n"
     ]
    },
    {
     "name": "stdout",
     "output_type": "stream",
     "text": [
      "0.16059567672865732\n",
      "0.9346428428377423\n"
     ]
    },
    {
     "name": "stderr",
     "output_type": "stream",
     "text": [
      "100%|██████████████████████████████████████████████████████████████████████████████████| 57/57 [00:34<00:00,  1.64it/s]\n"
     ]
    },
    {
     "name": "stdout",
     "output_type": "stream",
     "text": [
      "0.12612958678177424\n",
      "0.9474999904632568\n"
     ]
    },
    {
     "name": "stderr",
     "output_type": "stream",
     "text": [
      "100%|██████████████████████████████████████████████████████████████████████████████████| 57/57 [00:34<00:00,  1.65it/s]\n"
     ]
    },
    {
     "name": "stdout",
     "output_type": "stream",
     "text": [
      "0.14549991488456726\n",
      "0.9392857040677752\n"
     ]
    },
    {
     "name": "stderr",
     "output_type": "stream",
     "text": [
      "100%|██████████████████████████████████████████████████████████████████████████████████| 57/57 [00:34<00:00,  1.64it/s]\n"
     ]
    },
    {
     "name": "stdout",
     "output_type": "stream",
     "text": [
      "0.1742063249860491\n",
      "0.9228571142469134\n"
     ]
    },
    {
     "name": "stderr",
     "output_type": "stream",
     "text": [
      "100%|██████████████████████████████████████████████████████████████████████████████████| 57/57 [00:34<00:00,  1.64it/s]\n"
     ]
    },
    {
     "name": "stdout",
     "output_type": "stream",
     "text": [
      "0.12349952012300491\n",
      "0.9524999856948853\n"
     ]
    },
    {
     "name": "stderr",
     "output_type": "stream",
     "text": [
      "100%|██████████████████████████████████████████████████████████████████████████████████| 57/57 [00:34<00:00,  1.65it/s]\n"
     ]
    },
    {
     "name": "stdout",
     "output_type": "stream",
     "text": [
      "0.14274083822965622\n",
      "0.943928565297808\n"
     ]
    },
    {
     "name": "stderr",
     "output_type": "stream",
     "text": [
      "100%|██████████████████████████████████████████████████████████████████████████████████| 57/57 [00:34<00:00,  1.65it/s]\n"
     ]
    },
    {
     "name": "stdout",
     "output_type": "stream",
     "text": [
      "0.12158171300377164\n",
      "0.9521428431783404\n"
     ]
    },
    {
     "name": "stderr",
     "output_type": "stream",
     "text": [
      "100%|██████████████████████████████████████████████████████████████████████████████████| 57/57 [00:34<00:00,  1.65it/s]\n"
     ]
    },
    {
     "name": "stdout",
     "output_type": "stream",
     "text": [
      "0.14496278443506785\n",
      "0.9449999928474426\n"
     ]
    },
    {
     "name": "stderr",
     "output_type": "stream",
     "text": [
      "100%|██████████████████████████████████████████████████████████████████████████████████| 57/57 [00:34<00:00,  1.64it/s]\n"
     ]
    },
    {
     "name": "stdout",
     "output_type": "stream",
     "text": [
      "0.11707454068320138\n",
      "0.9560714108603341\n"
     ]
    },
    {
     "name": "stderr",
     "output_type": "stream",
     "text": [
      "100%|██████████████████████████████████████████████████████████████████████████████████| 57/57 [00:34<00:00,  1.65it/s]\n"
     ]
    },
    {
     "name": "stdout",
     "output_type": "stream",
     "text": [
      "0.127879193850926\n",
      "0.9517857006617955\n"
     ]
    },
    {
     "name": "stderr",
     "output_type": "stream",
     "text": [
      "100%|██████████████████████████████████████████████████████████████████████████████████| 57/57 [00:34<00:00,  1.65it/s]\n"
     ]
    },
    {
     "name": "stdout",
     "output_type": "stream",
     "text": [
      "0.14395771707807267\n",
      "0.9410714166504996\n"
     ]
    },
    {
     "name": "stderr",
     "output_type": "stream",
     "text": [
      "100%|██████████████████████████████████████████████████████████████████████████████████| 57/57 [00:34<00:00,  1.64it/s]\n"
     ]
    },
    {
     "name": "stdout",
     "output_type": "stream",
     "text": [
      "0.14423769073826925\n",
      "0.9464285629136222\n"
     ]
    },
    {
     "name": "stderr",
     "output_type": "stream",
     "text": [
      "100%|██████████████████████████████████████████████████████████████████████████████████| 57/57 [00:34<00:00,  1.64it/s]\n"
     ]
    },
    {
     "name": "stdout",
     "output_type": "stream",
     "text": [
      "0.12289091093199593\n",
      "0.9524999856948853\n"
     ]
    },
    {
     "name": "stderr",
     "output_type": "stream",
     "text": [
      "100%|██████████████████████████████████████████████████████████████████████████████████| 57/57 [00:34<00:00,  1.64it/s]\n"
     ]
    },
    {
     "name": "stdout",
     "output_type": "stream",
     "text": [
      "0.12250929645129613\n",
      "0.9510714156287057\n"
     ]
    },
    {
     "name": "stderr",
     "output_type": "stream",
     "text": [
      "100%|██████████████████████████████████████████████████████████████████████████████████| 57/57 [00:34<00:00,  1.65it/s]\n"
     ]
    },
    {
     "name": "stdout",
     "output_type": "stream",
     "text": [
      "0.13565422700984137\n",
      "0.9446428503308978\n"
     ]
    },
    {
     "name": "stderr",
     "output_type": "stream",
     "text": [
      "100%|██████████████████████████████████████████████████████████████████████████████████| 57/57 [00:34<00:00,  1.64it/s]\n"
     ]
    },
    {
     "name": "stdout",
     "output_type": "stream",
     "text": [
      "0.1265363810317857\n",
      "0.9485714180128915\n"
     ]
    },
    {
     "name": "stderr",
     "output_type": "stream",
     "text": [
      "100%|██████████████████████████████████████████████████████████████████████████████████| 57/57 [00:34<00:00,  1.65it/s]\n"
     ]
    },
    {
     "name": "stdout",
     "output_type": "stream",
     "text": [
      "0.1502658873796463\n",
      "0.9378571254866463\n"
     ]
    },
    {
     "name": "stderr",
     "output_type": "stream",
     "text": [
      "100%|██████████████████████████████████████████████████████████████████████████████████| 57/57 [00:34<00:00,  1.65it/s]\n"
     ]
    },
    {
     "name": "stdout",
     "output_type": "stream",
     "text": [
      "0.11920652432101113\n",
      "0.9571428384099688\n"
     ]
    },
    {
     "name": "stderr",
     "output_type": "stream",
     "text": [
      "100%|██████████████████████████████████████████████████████████████████████████████████| 57/57 [00:34<00:00,  1.64it/s]\n"
     ]
    },
    {
     "name": "stdout",
     "output_type": "stream",
     "text": [
      "0.1270626378910882\n",
      "0.9528571282114301\n"
     ]
    },
    {
     "name": "stderr",
     "output_type": "stream",
     "text": [
      "100%|██████████████████████████████████████████████████████████████████████████████████| 57/57 [00:34<00:00,  1.65it/s]\n"
     ]
    },
    {
     "name": "stdout",
     "output_type": "stream",
     "text": [
      "0.1272325004850115\n",
      "0.949999988079071\n"
     ]
    },
    {
     "name": "stderr",
     "output_type": "stream",
     "text": [
      "100%|██████████████████████████████████████████████████████████████████████████████████| 57/57 [00:34<00:00,  1.65it/s]\n"
     ]
    },
    {
     "name": "stdout",
     "output_type": "stream",
     "text": [
      "0.13137753627129964\n",
      "0.9517857006617955\n"
     ]
    },
    {
     "name": "stderr",
     "output_type": "stream",
     "text": [
      "100%|██████████████████████████████████████████████████████████████████████████████████| 57/57 [00:34<00:00,  1.65it/s]\n"
     ]
    },
    {
     "name": "stdout",
     "output_type": "stream",
     "text": [
      "0.12331892549991608\n",
      "0.9521428431783404\n"
     ]
    },
    {
     "name": "stderr",
     "output_type": "stream",
     "text": [
      "100%|██████████████████████████████████████████████████████████████████████████████████| 57/57 [00:34<00:00,  1.64it/s]\n"
     ]
    },
    {
     "name": "stdout",
     "output_type": "stream",
     "text": [
      "0.1349899364369256\n",
      "0.9464285629136222\n"
     ]
    },
    {
     "name": "stderr",
     "output_type": "stream",
     "text": [
      "100%|██████████████████████████████████████████████████████████████████████████████████| 57/57 [00:34<00:00,  1.64it/s]\n"
     ]
    },
    {
     "name": "stdout",
     "output_type": "stream",
     "text": [
      "0.12430644886834281\n",
      "0.9503571305956159\n"
     ]
    },
    {
     "name": "stderr",
     "output_type": "stream",
     "text": [
      "100%|██████████████████████████████████████████████████████████████████████████████████| 57/57 [00:34<00:00,  1.64it/s]\n"
     ]
    },
    {
     "name": "stdout",
     "output_type": "stream",
     "text": [
      "0.14207747365747178\n",
      "0.9460714203970773\n"
     ]
    },
    {
     "name": "stderr",
     "output_type": "stream",
     "text": [
      "100%|██████████████████████████████████████████████████████████████████████████████████| 57/57 [00:34<00:00,  1.65it/s]\n"
     ]
    },
    {
     "name": "stdout",
     "output_type": "stream",
     "text": [
      "0.12206163789544787\n",
      "0.9528571282114301\n"
     ]
    },
    {
     "name": "stderr",
     "output_type": "stream",
     "text": [
      "100%|██████████████████████████████████████████████████████████████████████████████████| 57/57 [00:34<00:00,  1.65it/s]\n"
     ]
    },
    {
     "name": "stdout",
     "output_type": "stream",
     "text": [
      "0.13789191203457968\n",
      "0.9478571329798017\n"
     ]
    },
    {
     "name": "stderr",
     "output_type": "stream",
     "text": [
      "100%|██████████████████████████████████████████████████████████████████████████████████| 57/57 [00:34<00:00,  1.64it/s]\n"
     ]
    },
    {
     "name": "stdout",
     "output_type": "stream",
     "text": [
      "0.11916342377662659\n",
      "0.9517857006617955\n"
     ]
    },
    {
     "name": "stderr",
     "output_type": "stream",
     "text": [
      "100%|██████████████████████████████████████████████████████████████████████████████████| 57/57 [00:34<00:00,  1.64it/s]\n"
     ]
    },
    {
     "name": "stdout",
     "output_type": "stream",
     "text": [
      "0.15381291934422084\n",
      "0.9385714105197361\n"
     ]
    },
    {
     "name": "stderr",
     "output_type": "stream",
     "text": [
      "100%|██████████████████████████████████████████████████████████████████████████████████| 57/57 [00:34<00:00,  1.65it/s]\n"
     ]
    },
    {
     "name": "stdout",
     "output_type": "stream",
     "text": [
      "0.1277180878179414\n",
      "0.9496428455625262\n"
     ]
    },
    {
     "name": "stderr",
     "output_type": "stream",
     "text": [
      "100%|██████████████████████████████████████████████████████████████████████████████████| 57/57 [00:34<00:00,  1.64it/s]\n"
     ]
    },
    {
     "name": "stdout",
     "output_type": "stream",
     "text": [
      "0.12791112597499574\n",
      "0.953214270727975\n"
     ]
    },
    {
     "name": "stderr",
     "output_type": "stream",
     "text": [
      "100%|██████████████████████████████████████████████████████████████████████████████████| 57/57 [00:34<00:00,  1.65it/s]\n"
     ]
    },
    {
     "name": "stdout",
     "output_type": "stream",
     "text": [
      "0.11868599908692497\n",
      "0.9528571282114301\n"
     ]
    },
    {
     "name": "stderr",
     "output_type": "stream",
     "text": [
      "100%|██████████████████████████████████████████████████████████████████████████████████| 57/57 [00:34<00:00,  1.64it/s]\n"
     ]
    },
    {
     "name": "stdout",
     "output_type": "stream",
     "text": [
      "0.1347391339285033\n",
      "0.9464285543986729\n"
     ]
    },
    {
     "name": "stderr",
     "output_type": "stream",
     "text": [
      "100%|██████████████████████████████████████████████████████████████████████████████████| 57/57 [00:34<00:00,  1.64it/s]\n"
     ]
    },
    {
     "name": "stdout",
     "output_type": "stream",
     "text": [
      "0.14688079910618917\n",
      "0.9428571292332241\n"
     ]
    },
    {
     "name": "stderr",
     "output_type": "stream",
     "text": [
      "100%|██████████████████████████████████████████████████████████████████████████████████| 57/57 [00:34<00:00,  1.64it/s]\n"
     ]
    },
    {
     "name": "stdout",
     "output_type": "stream",
     "text": [
      "0.1197791684951101\n",
      "0.9528571282114301\n"
     ]
    },
    {
     "name": "stderr",
     "output_type": "stream",
     "text": [
      "100%|██████████████████████████████████████████████████████████████████████████████████| 57/57 [00:34<00:00,  1.64it/s]\n"
     ]
    },
    {
     "name": "stdout",
     "output_type": "stream",
     "text": [
      "0.12121525193963732\n",
      "0.9549999833106995\n"
     ]
    },
    {
     "name": "stderr",
     "output_type": "stream",
     "text": [
      "100%|██████████████████████████████████████████████████████████████████████████████████| 57/57 [00:34<00:00,  1.65it/s]\n"
     ]
    },
    {
     "name": "stdout",
     "output_type": "stream",
     "text": [
      "0.13253509679010936\n",
      "0.9521428431783404\n"
     ]
    },
    {
     "name": "stderr",
     "output_type": "stream",
     "text": [
      "100%|██████████████████████████████████████████████████████████████████████████████████| 57/57 [00:34<00:00,  1.64it/s]\n"
     ]
    },
    {
     "name": "stdout",
     "output_type": "stream",
     "text": [
      "0.11766576660530907\n",
      "0.9521428431783404\n"
     ]
    },
    {
     "name": "stderr",
     "output_type": "stream",
     "text": [
      "100%|██████████████████████████████████████████████████████████████████████████████████| 57/57 [00:34<00:00,  1.64it/s]\n"
     ]
    },
    {
     "name": "stdout",
     "output_type": "stream",
     "text": [
      "0.11803072478090014\n",
      "0.9553571258272443\n"
     ]
    },
    {
     "name": "stderr",
     "output_type": "stream",
     "text": [
      "100%|██████████████████████████████████████████████████████████████████████████████████| 57/57 [00:34<00:00,  1.65it/s]\n"
     ]
    },
    {
     "name": "stdout",
     "output_type": "stream",
     "text": [
      "0.12893403534378325\n",
      "0.9517857006617955\n"
     ]
    },
    {
     "name": "stderr",
     "output_type": "stream",
     "text": [
      "100%|██████████████████████████████████████████████████████████████████████████████████| 57/57 [00:34<00:00,  1.64it/s]\n"
     ]
    },
    {
     "name": "stdout",
     "output_type": "stream",
     "text": [
      "0.15664385578462056\n",
      "0.9453571353639875\n"
     ]
    },
    {
     "name": "stderr",
     "output_type": "stream",
     "text": [
      "100%|██████████████████████████████████████████████████████████████████████████████████| 57/57 [00:34<00:00,  1.65it/s]\n"
     ]
    },
    {
     "name": "stdout",
     "output_type": "stream",
     "text": [
      "0.12268602102994919\n",
      "0.9542856982776097\n"
     ]
    },
    {
     "name": "stderr",
     "output_type": "stream",
     "text": [
      "100%|██████████████████████████████████████████████████████████████████████████████████| 57/57 [00:34<00:00,  1.64it/s]\n"
     ]
    },
    {
     "name": "stdout",
     "output_type": "stream",
     "text": [
      "0.13143607335431234\n",
      "0.9517857006617955\n"
     ]
    },
    {
     "name": "stderr",
     "output_type": "stream",
     "text": [
      "100%|██████████████████████████████████████████████████████████████████████████████████| 57/57 [00:34<00:00,  1.65it/s]\n"
     ]
    },
    {
     "name": "stdout",
     "output_type": "stream",
     "text": [
      "0.11736895143985748\n",
      "0.949999988079071\n"
     ]
    },
    {
     "name": "stderr",
     "output_type": "stream",
     "text": [
      "100%|██████████████████████████████████████████████████████████████████████████████████| 57/57 [00:34<00:00,  1.65it/s]\n"
     ]
    },
    {
     "name": "stdout",
     "output_type": "stream",
     "text": [
      "0.12745203290666854\n",
      "0.9492857030459813\n"
     ]
    },
    {
     "name": "stderr",
     "output_type": "stream",
     "text": [
      "100%|██████████████████████████████████████████████████████████████████████████████████| 57/57 [00:34<00:00,  1.65it/s]\n"
     ]
    },
    {
     "name": "stdout",
     "output_type": "stream",
     "text": [
      "0.12452813344342369\n",
      "0.9517857006617955\n"
     ]
    },
    {
     "name": "stderr",
     "output_type": "stream",
     "text": [
      "100%|██████████████████████████████████████████████████████████████████████████████████| 57/57 [00:34<00:00,  1.65it/s]\n"
     ]
    },
    {
     "name": "stdout",
     "output_type": "stream",
     "text": [
      "0.14225232601165771\n",
      "0.943928565297808\n"
     ]
    },
    {
     "name": "stderr",
     "output_type": "stream",
     "text": [
      "100%|██████████████████████████████████████████████████████████████████████████████████| 57/57 [00:34<00:00,  1.65it/s]\n"
     ]
    },
    {
     "name": "stdout",
     "output_type": "stream",
     "text": [
      "0.11948326336486\n",
      "0.9521428431783404\n"
     ]
    },
    {
     "name": "stderr",
     "output_type": "stream",
     "text": [
      "100%|██████████████████████████████████████████████████████████████████████████████████| 57/57 [00:34<00:00,  1.65it/s]\n"
     ]
    },
    {
     "name": "stdout",
     "output_type": "stream",
     "text": [
      "0.1327126239027296\n",
      "0.9510714156287057\n"
     ]
    },
    {
     "name": "stderr",
     "output_type": "stream",
     "text": [
      "100%|██████████████████████████████████████████████████████████████████████████████████| 57/57 [00:34<00:00,  1.65it/s]\n"
     ]
    },
    {
     "name": "stdout",
     "output_type": "stream",
     "text": [
      "0.12285205296107701\n",
      "0.9514285581452506\n"
     ]
    },
    {
     "name": "stderr",
     "output_type": "stream",
     "text": [
      "100%|██████████████████████████████████████████████████████████████████████████████████| 57/57 [00:34<00:00,  1.64it/s]\n"
     ]
    },
    {
     "name": "stdout",
     "output_type": "stream",
     "text": [
      "0.11704663187265396\n",
      "0.9567856958934239\n"
     ]
    }
   ],
   "source": [
    "# Model, optimizer, and loss function setup.\n",
    "MODEL_NAME = f\"model-{int(time.time())}\"\n",
    "net = Net().to(device)\n",
    "optimizer = optim.Adam(net.parameters(), lr=0.001)\n",
    "loss_function = nn.BCELoss() \n",
    "print(MODEL_NAME)\n",
    "\n",
    "# Training loop: Iterates over epochs, performs training and validation.\n",
    "def train():\n",
    "    train_losses = []\n",
    "    val_losses = [] \n",
    "    train_accuracies = []\n",
    "    val_accuracies = []\n",
    "    \n",
    "    with open(\"model.log\", \"a\") as f:\n",
    "        for epoch in range(EPOCHS):\n",
    "            net.train()  # Training mode\n",
    "            total_train_loss = 0\n",
    "            total_train_acc = 0\n",
    "            batch_count = 0\n",
    "            \n",
    "            for batch_x, batch_y in tqdm(train_loader): \n",
    "                # Preprocess and move the input batch and labels to the appropriate device.\n",
    "                batch_x = batch_x.view(-1, 1, IMG_SIZE_GLOBAL, IMG_SIZE_GLOBAL).to(device)\n",
    "                batch_y = batch_y[:,1].to(device)  \n",
    "                \n",
    "                # Perform forward pass\n",
    "                acc, loss = fwd_pass(batch_x, batch_y, train=True)\n",
    "                total_train_loss += loss.item()\n",
    "                total_train_acc += acc.item()\n",
    "                batch_count += 1\n",
    "            \n",
    "            # Calculate and store average loss and accuracy for the epoch.\n",
    "            epoch_loss = total_train_loss / batch_count\n",
    "            epoch_acc = total_train_acc / batch_count\n",
    "            train_losses.append(epoch_loss)\n",
    "            train_accuracies.append(epoch_acc)\n",
    "            \n",
    "            # Perform validation at the end of each epoch and store metrics.\n",
    "            val_acc, val_loss = test(size=len(test_loader.dataset))  # Validate on the entire test set\n",
    "            val_losses.append(val_loss)\n",
    "            val_accuracies.append(val_acc)\n",
    "            \n",
    "            # Print loss and accuracy for live monitoring \n",
    "            print(val_loss)\n",
    "            print(val_acc)\n",
    "            f.write(f\"{MODEL_NAME}, Epoch: {epoch}, Train Loss: {round(epoch_loss,4)}, Train Acc: {round(epoch_acc,2)}, Val Loss: {round(val_loss,4)}, Val Acc: {round(val_acc,2)}\\n\")\n",
    "\n",
    "    return train_losses, val_losses, train_accuracies, val_accuracies\n",
    "\n",
    "# Begin Training\n",
    "train_losses, val_losses, train_accuracies, val_accuracies = train()"
   ]
  },
  {
   "cell_type": "markdown",
   "id": "a862e99f",
   "metadata": {},
   "source": [
    "### Evaluation\n",
    "\n",
    "Upon completing the training, our model demonstrates robust performance with an accuracy of 96%, complemented by an F1-Measure of 0.96. The precision and recall are closely matched at 0.96 and 0.95, respectively, indicating a balanced treatment of classes. A near-perfect ROC AUC of 0.99 suggests excellent class separation, and a low Brier Score of 0.03, coupled with a Brier Skill Score of 0.87, confirms the model's predictive reliability.\n",
    "\n",
    "Signs of overfitting emerge around epoch 150, suggesting that further training is unlikely to yield improvement. Future efforts may focus on expanding the dataset or exploring more advanced regularization techniques."
   ]
  },
  {
   "cell_type": "code",
   "execution_count": 9,
   "id": "5fb88511",
   "metadata": {},
   "outputs": [],
   "source": [
    "from sklearn.metrics import roc_auc_score, brier_score_loss, f1_score, precision_score, recall_score, confusion_matrix, roc_curve, auc\n",
    "import warnings\n",
    "warnings.simplefilter(\"ignore\", category=FutureWarning)\n",
    "\n",
    "def plot_roc_curve(labels, predictions):\n",
    "    fpr, tpr, thresholds = roc_curve(labels, predictions)\n",
    "    roc_auc = auc(fpr, tpr)\n",
    "\n",
    "    plt.figure(figsize=(10, 8))\n",
    "    lw = 2  # Line width\n",
    "    sns.set(style=\"whitegrid\")\n",
    "    plt.plot(fpr, tpr, color='darkorange', lw=lw, label=f'ROC curve (AUC = {roc_auc:.2f})')\n",
    "    plt.plot([0, 1], [0, 1], color='navy', lw=lw, linestyle='--')\n",
    "    plt.xlim([0.0, 1.0])\n",
    "    plt.ylim([0.0, 1.05])\n",
    "    plt.xlabel('False Positive Rate', fontsize=14)\n",
    "    plt.ylabel('True Positive Rate', fontsize=14)\n",
    "    plt.title('Receiver Operating Characteristic (ROC) Curve', fontsize=16)\n",
    "    plt.legend(loc=\"lower right\", fontsize=12)\n",
    "    sns.despine(offset=10, trim=True)  \n",
    "    plt.show()\n",
    "\n",
    "\n",
    "\n",
    "def plot_brier_score(labels, predictions):\n",
    "    brier_score_value = brier_score_loss(labels, predictions)\n",
    "\n",
    "    plt.figure(figsize=(10, 8))\n",
    "    sns.set(style=\"whitegrid\")\n",
    "    sns.histplot(predictions, kde=True, color=\"darkorange\", linewidth=2, edgecolor='w')\n",
    "    plt.title(f'Brier Score Distribution (Score: {brier_score_value:.2f})', fontsize=16)\n",
    "    plt.xlabel('Predicted Probabilities', fontsize=14)\n",
    "    plt.ylabel('Frequency', fontsize=14)\n",
    "    sns.despine(offset=10, trim=True)  \n",
    "    plt.show()\n"
   ]
  },
  {
   "cell_type": "code",
   "execution_count": 23,
   "id": "64babe1f",
   "metadata": {},
   "outputs": [],
   "source": [
    "def test_final(net):\n",
    "    all_labels = []\n",
    "    all_predictions = []\n",
    "    with torch.no_grad():\n",
    "        for batch_x, batch_y in tqdm(test_loader):\n",
    "            batch_x = batch_x.to(device)\n",
    "            batch_y = batch_y[:, 1].to(device)\n",
    "            \n",
    "            net_out = net(batch_x).squeeze()\n",
    "            predictions = net_out.cpu().numpy()\n",
    "            labels = batch_y.cpu().numpy()\n",
    "            \n",
    "            all_labels.extend(labels)\n",
    "            all_predictions.extend(predictions)\n",
    "\n",
    "    # Convert predictions and labels to numpy arrays\n",
    "    all_predictions = np.array(all_predictions)\n",
    "    all_labels = np.array(all_labels)\n",
    "    \n",
    "    # Convert probabilities to binary predictions\n",
    "    predicted_classes = (all_predictions > 0.5).astype(int)\n",
    "    \n",
    "    # Calculate metrics\n",
    "    roc_auc = roc_auc_score(all_labels, all_predictions)\n",
    "    brier_score = brier_score_loss(all_labels, all_predictions)\n",
    "    f1 = f1_score(all_labels, predicted_classes)\n",
    "    precision = precision_score(all_labels, predicted_classes)\n",
    "    recall = recall_score(all_labels, predicted_classes)\n",
    "\n",
    "    # Calculate Brier Skill Score\n",
    "    bs_ref = np.mean(all_labels) * (1 - np.mean(all_labels))\n",
    "    brier_skill_score = 1 - (brier_score / bs_ref)\n",
    "\n",
    "    # Calculate and display the confusion matrix\n",
    "    cm = confusion_matrix(all_labels, predicted_classes)\n",
    "    sns.heatmap(cm, annot=True, fmt='d', cmap='Blues')\n",
    "    plt.title('Confusion Matrix')\n",
    "    plt.ylabel('Actual Label (1 = Dog | 0 = Cat)')\n",
    "    plt.xlabel('Predicted Label')\n",
    "    plt.show()\n",
    "\n",
    "    # Print all metrics\n",
    "    print(\"ROC AUC: \", round(roc_auc, 2))\n",
    "    print(\"Brier Score: \", round(brier_score, 2))\n",
    "    print(\"Brier Skill Score: \", round(brier_skill_score, 2))\n",
    "    print(\"F1-Measure: \", round(f1, 2))\n",
    "    accuracy = (cm[0][0] + cm[1][1]) / np.sum(cm)\n",
    "    print(\"Accuracy: \", round(accuracy, 2))\n",
    "    print(\"Precision: \", round(precision, 2))\n",
    "    print(\"Recall: \", round(recall, 2))\n",
    "    # Assuming these functions exist and are defined elsewhere\n",
    "    plot_roc_curve(all_labels, all_predictions)  \n",
    "    plot_brier_score(all_labels, all_predictions)  \n"
   ]
  },
  {
   "cell_type": "code",
   "execution_count": 24,
   "id": "7dcf2047",
   "metadata": {
    "scrolled": false
   },
   "outputs": [
    {
     "name": "stderr",
     "output_type": "stream",
     "text": [
      "100%|████████████████████████████████████████████████████████████████████████████████████| 7/7 [00:00<00:00,  8.29it/s]\n"
     ]
    },
    {
     "data": {
      "image/png": "[encoded data removed]",
      "text/plain": [
       "<Figure size 640x480 with 2 Axes>"
      ]
     },
     "metadata": {},
     "output_type": "display_data"
    },
    {
     "name": "stdout",
     "output_type": "stream",
     "text": [
      "ROC AUC:  0.99\n",
      "Brier Score:  0.03\n",
      "Brier Skill Score:  0.87\n",
      "F1-Measure:  0.96\n",
      "Accuracy:  0.96\n",
      "Precision:  0.96\n",
      "Recall:  0.95\n"
     ]
    },
    {
     "data": {
      "image/png": "[encoded data removed]",
      "text/plain": [
       "<Figure size 1000x800 with 1 Axes>"
      ]
     },
     "metadata": {},
     "output_type": "display_data"
    },
    {
     "data": {
      "image/png": "[encoded data removed]",
      "text/plain": [
       "<Figure size 1000x800 with 1 Axes>"
      ]
     },
     "metadata": {},
     "output_type": "display_data"
    }
   ],
   "source": [
    "test_final(net)"
   ]
  },
  {
   "cell_type": "code",
   "execution_count": 25,
   "id": "c85c1362",
   "metadata": {},
   "outputs": [
    {
     "data": {
      "image/png": "[encoded data removed]",
      "text/plain": [
       "<Figure size 1200x700 with 1 Axes>"
      ]
     },
     "metadata": {},
     "output_type": "display_data"
    },
    {
     "data": {
      "image/png": "[encoded data removed]",
      "text/plain": [
       "<Figure size 1200x700 with 1 Axes>"
      ]
     },
     "metadata": {},
     "output_type": "display_data"
    }
   ],
   "source": [
    "rangemin = 0\n",
    "rangemax = 150\n",
    "\n",
    "def plot_metrics(train_losses, val_losses, train_accuracies, val_accuracies):\n",
    "    sns.set_context(\"talk\")  \n",
    "    sns.set_style(\"whitegrid\")  \n",
    "    sns.set_palette(\"bright\")  \n",
    "\n",
    "    epochs = range(1, len(train_losses) + 1)\n",
    "\n",
    "    # Plot training and validation loss\n",
    "    plt.figure(figsize=(12, 7))\n",
    "    plt.plot(epochs[rangemin:rangemax], train_losses[rangemin:rangemax], marker='o', label='Training Loss')\n",
    "    plt.plot(epochs[rangemin:rangemax], val_losses[rangemin:rangemax], marker='^', label='Validation Loss')\n",
    "    plt.title('Training and Validation Loss Over Epochs')\n",
    "    plt.xlabel('Epochs')\n",
    "    plt.ylabel('Loss')\n",
    "    plt.legend()\n",
    "    plt.tight_layout()\n",
    "    sns.despine(trim=True) \n",
    "    plt.show()\n",
    "\n",
    "    # Plot training and validation accuracy\n",
    "    plt.figure(figsize=(12, 7))\n",
    "    plt.plot(epochs[rangemin:rangemax], train_accuracies[rangemin:rangemax], marker='o', label='Training Accuracy')\n",
    "    plt.plot(epochs[rangemin:rangemax], val_accuracies[rangemin:rangemax], marker='^', label='Validation Accuracy')\n",
    "    plt.title('Training and Validation Accuracy Over Epochs')\n",
    "    plt.xlabel('Epochs')\n",
    "    plt.ylabel('Accuracy')\n",
    "    plt.legend()\n",
    "    plt.tight_layout()\n",
    "    sns.despine(trim=True)\n",
    "    plt.show()\n",
    "\n",
    "plot_metrics(train_losses, val_losses, train_accuracies, val_accuracies)"
   ]
  },
  {
   "cell_type": "code",
   "execution_count": null,
   "id": "5183cc24",
   "metadata": {},
   "outputs": [],
   "source": []
  }
 ],
 "metadata": {
  "kernelspec": {
   "display_name": "Python 3 (ipykernel)",
   "language": "python",
   "name": "python3"
  },
  "language_info": {
   "codemirror_mode": {
    "name": "ipython",
    "version": 3
   },
   "file_extension": ".py",
   "mimetype": "text/x-python",
   "name": "python",
   "nbconvert_exporter": "python",
   "pygments_lexer": "ipython3",
   "version": "3.11.3"
  }
 },
 "nbformat": 4,
 "nbformat_minor": 5
}
